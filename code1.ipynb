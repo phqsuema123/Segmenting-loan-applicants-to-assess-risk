{
 "cells": [
  {
   "cell_type": "code",
   "execution_count": 1,
   "metadata": {},
   "outputs": [],
   "source": [
    "import pandas as pd\n",
    "from sklearn.model_selection import train_test_split\n",
    "from sklearn.impute import SimpleImputer\n",
    "from sklearn.preprocessing import LabelEncoder\n",
    "from sklearn.linear_model import LogisticRegression\n",
    "from sklearn.metrics import accuracy_score\n",
    "import numpy as np"
   ]
  },
  {
   "cell_type": "code",
   "execution_count": 2,
   "metadata": {},
   "outputs": [
    {
     "data": {
      "text/plain": [
       "0.6556291390728477"
      ]
     },
     "execution_count": 2,
     "metadata": {},
     "output_type": "execute_result"
    }
   ],
   "source": [
    "\n",
    "file_path = 'realfinal.xlsx'\n",
    "data = pd.read_excel(file_path, sheet_name=None)\n",
    "data_sheet1 = data['Sheet1']\n",
    "data_sheet1.head()\n",
    "\n",
    "# Check the sheet names and load each into dataframes\n",
    "sheet_names = data.keys()\n",
    "sheet_names\n",
    "\n",
    "\n",
    "# Impute missing values\n",
    "imputer = SimpleImputer(strategy='most_frequent')\n",
    "data_imputed = pd.DataFrame(imputer.fit_transform(data_sheet1), columns=data_sheet1.columns)\n",
    "\n",
    "# Apply LabelEncoder to each categorical column\n",
    "encoders = {}  # Dictionary to store label encoders for each column\n",
    "for column in data_imputed.select_dtypes(include=['object']).columns:\n",
    "    le = LabelEncoder()\n",
    "    data_imputed[column] = le.fit_transform(data_imputed[column].astype(str))\n",
    "    encoders[column] = le  # Store each encoder\n",
    "\n",
    "# Define features and target\n",
    "X = data_imputed.drop('กลุ่มเงินหนี้', axis=1)\n",
    "y = data_imputed['กลุ่มเงินหนี้']\n",
    "\n",
    "# Split the data into training and testing sets\n",
    "X_train, X_test, y_train, y_test = train_test_split(X, y, test_size=0.2, random_state=42)\n",
    "\n",
    "# Initialize and train the logistic regression model\n",
    "logreg = LogisticRegression(max_iter=1000)\n",
    "logreg.fit(X_train, y_train)\n",
    "\n",
    "# Predict the responses for the test set\n",
    "y_pred = logreg.predict(X_test)\n",
    "\n",
    "# Compute the accuracy score\n",
    "accuracy = accuracy_score(y_test, y_pred)\n",
    "accuracy\n",
    "\n"
   ]
  },
  {
   "cell_type": "code",
   "execution_count": 3,
   "metadata": {},
   "outputs": [
    {
     "data": {
      "text/plain": [
       "'ไม่เสี่ยง'"
      ]
     },
     "execution_count": 3,
     "metadata": {},
     "output_type": "execute_result"
    }
   ],
   "source": [
    "# Define another example data with the appropriate structure\n",
    "\n",
    "another_example_data = {\n",
    "    'รหัสสาขาสัญญา': 'อาเซี่ยนมอลล์',\n",
    "    'สถานภาพ': 'แต่งงาน',\n",
    "    'เพศ': 'ชาย',\n",
    "    'เหตุผลการกู้': 'การศึกษา',\n",
    "    'หลักค้ําประกัน': 'บุคคล',\n",
    "    'อำเภอ': 'ยะรัง',\n",
    "    'จังหวัด': 'ปัตตานี',\n",
    "    'จำนวนบุตร': 0,\n",
    "    'อายุสมาชิกปี': 1,\n",
    "    'แบบชำระ': 'ชำระด้วยตัวเอง',\n",
    "    'กลุ่มอายุ': '20-30',\n",
    "    'กลุ่มรายได้รวม': '<10,000',\n",
    "    'หมวดหมู่อาชีพ': 'การศึกษา',\n",
    "    'กลุ่มวงเงินที่ขอ': '50,000 to 70,000',\n",
    "    'กลุ่มอายุสมาชิกปี': '1'\n",
    "}\n",
    "\n",
    "# Create a DataFrame from the example data\n",
    "another_example_df = pd.DataFrame([another_example_data])\n",
    "\n",
    "# Encode example data using the fitted LabelEncoders, handling unknown categories properly\n",
    "encoded_data = {}\n",
    "for column in another_example_df.columns:\n",
    "    le = encoders[column]\n",
    "    # Temporarily add 'Unknown' to classes for handling unknown categories\n",
    "    temp_classes = np.append(le.classes_, 'Unknown')\n",
    "    # Map each value to the correct index in temp_classes\n",
    "    encoded_data[column] = another_example_df[column].astype(str).apply(\n",
    "        lambda x: np.where(temp_classes == (x if x in le.classes_ else 'Unknown'))[0][0])\n",
    "\n",
    "# Convert encoded data to DataFrame\n",
    "encoded_example_df = pd.DataFrame([encoded_data])\n",
    "\n",
    "# Predict the debt group using the logistic regression model\n",
    "predicted_group = logreg.predict(encoded_example_df)\n",
    "\n",
    "# Decode the predicted labels using the original encoder for the target variable\n",
    "predicted_label = encoders['กลุ่มเงินหนี้'].inverse_transform(predicted_group)[0]\n",
    "predicted_label\n",
    "\n",
    "print(\"ระดับกลุ่มการประเมินของผู้ขอสินเชื่อ:\",predicted_label)"
   ]
  },
  {
   "cell_type": "code",
   "execution_count": 4,
   "metadata": {},
   "outputs": [
    {
     "data": {
      "text/plain": [
       "'ไม่เสี่ยง'"
      ]
     },
     "execution_count": 4,
     "metadata": {},
     "output_type": "execute_result"
    }
   ],
   "source": [
    "# Define another example data with the appropriate structure\n",
    "\n",
    "another_example_data = {\n",
    "    'รหัสสาขาสัญญา': 'อาเซี่ยนมอลล์',\n",
    "    'สถานภาพ': 'แต่งงาน',\n",
    "    'เพศ': 'หญิง',\n",
    "    'เหตุผลการกู้': 'ครัวเรือนและส่วนบุคคล',\n",
    "    'หลักค้ําประกัน': 'บุคคล',\n",
    "    'อำเภอ': 'เมืองปัตตานี',\n",
    "    'จังหวัด': 'ปัตตานี',\n",
    "    'จำนวนบุตร': 3,\n",
    "    'อายุสมาชิกปี': 4,\n",
    "    'แบบชำระ': 'ชำระด้วยตัวเอง',\n",
    "    'กลุ่มอายุ': '50-60',\n",
    "    'กลุ่มรายได้รวม': '<10,000',\n",
    "    'หมวดหมู่อาชีพ': 'ธุรกิจและการค้า',\n",
    "    'กลุ่มวงเงินที่ขอ': '20,000 to 50,000',\n",
    "    'กลุ่มอายุสมาชิกปี': 'Less than 5 years'\n",
    "}\n",
    "\n",
    "# Create a DataFrame from the example data\n",
    "another_example_df = pd.DataFrame([another_example_data])\n",
    "\n",
    "# Encode example data using the fitted LabelEncoders, handling unknown categories properly\n",
    "encoded_data = {}\n",
    "for column in another_example_df.columns:\n",
    "    le = encoders[column]\n",
    "    # Temporarily add 'Unknown' to classes for handling unknown categories\n",
    "    temp_classes = np.append(le.classes_, 'Unknown')\n",
    "    # Map each value to the correct index in temp_classes\n",
    "    encoded_data[column] = another_example_df[column].astype(str).apply(\n",
    "        lambda x: np.where(temp_classes == (x if x in le.classes_ else 'Unknown'))[0][0])\n",
    "\n",
    "# Convert encoded data to DataFrame\n",
    "encoded_example_df = pd.DataFrame([encoded_data])\n",
    "\n",
    "# Predict the debt group using the logistic regression model\n",
    "predicted_group = logreg.predict(encoded_example_df)\n",
    "\n",
    "# Decode the predicted labels using the original encoder for the target variable\n",
    "predicted_label = encoders['กลุ่มเงินหนี้'].inverse_transform(predicted_group)[0]\n",
    "predicted_label\n"
   ]
  }
 ],
 "metadata": {
  "kernelspec": {
   "display_name": "base",
   "language": "python",
   "name": "python3"
  },
  "language_info": {
   "codemirror_mode": {
    "name": "ipython",
    "version": 3
   },
   "file_extension": ".py",
   "mimetype": "text/x-python",
   "name": "python",
   "nbconvert_exporter": "python",
   "pygments_lexer": "ipython3",
   "version": "3.9.12"
  }
 },
 "nbformat": 4,
 "nbformat_minor": 2
}
