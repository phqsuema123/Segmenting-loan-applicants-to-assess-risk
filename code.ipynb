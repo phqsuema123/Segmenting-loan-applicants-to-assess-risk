{
 "cells": [
  {
   "cell_type": "code",
   "execution_count": 18,
   "metadata": {},
   "outputs": [],
   "source": [
    "import pandas as pd\n",
    "from sklearn.preprocessing import LabelEncoder\n",
    "from sklearn.impute import SimpleImputer\n",
    "from sklearn.model_selection import train_test_split\n",
    "from sklearn.linear_model import LogisticRegression\n",
    "from sklearn.metrics import accuracy_score "
   ]
  },
  {
   "cell_type": "code",
   "execution_count": 19,
   "metadata": {},
   "outputs": [
    {
     "name": "stdout",
     "output_type": "stream",
     "text": [
      "Accuracy: 0.609271523178808\n"
     ]
    }
   ],
   "source": [
    "data = pd.read_excel('realfinal2.xlsx')  #\n",
    "imputer = SimpleImputer(strategy='most_frequent')\n",
    "data_imputed = pd.DataFrame(imputer.fit_transform(data), columns=data.columns)\n",
    "\n",
    "encoders = {}\n",
    "for column in data_imputed.columns:\n",
    "    data[column] = data[column].astype(str)  # Ensure all data is string type\n",
    "    le = LabelEncoder()\n",
    "    le.fit(list(data[column].unique()) + ['Unknown'])  # Include 'Unknown' for new categories\n",
    "    data_imputed[column] = le.transform(data[column])\n",
    "    encoders[column] = le\n",
    "\n",
    "# Define features and target\n",
    "X = data_imputed.drop('ความเสี่ยง', axis=1)  # Assuming 'ความเสี่ยง' is the target column\n",
    "y = data_imputed['ความเสี่ยง']\n",
    "\n",
    "# Split the data into training and testing sets\n",
    "X_train, X_test, y_train, y_test = train_test_split(X, y, test_size=0.2, random_state=42)\n",
    "\n",
    "# Initialize and train the logistic regression model\n",
    "logreg = LogisticRegression(max_iter=1000)\n",
    "logreg.fit(X_train, y_train)\n",
    "\n",
    "# Predict on the test data\n",
    "y_pred = logreg.predict(X_test)\n",
    "\n",
    "# Calculate and print the accuracy\n",
    "accuracy = accuracy_score(y_test, y_pred)\n",
    "print(\"Accuracy:\", accuracy)\n"
   ]
  },
  {
   "cell_type": "code",
   "execution_count": 22,
   "metadata": {},
   "outputs": [
    {
     "data": {
      "text/plain": [
       "'ไม่เสี่ยง'"
      ]
     },
     "execution_count": 22,
     "metadata": {},
     "output_type": "execute_result"
    }
   ],
   "source": [
    "# Define the example data again to match the training data\n",
    "example_data = {\n",
    "    'รหัสสาขาสัญญา': 'อาเซี่ยนมอลล์',\n",
    "    'สถานภาพ': 'โสด',\n",
    "    'เพศ': 'ชาย',\n",
    "    'เหตุผลการกู้': 'การศึกษา',\n",
    "    'หลักค้ําประกัน': 'บุคคล',\n",
    "    'อำเภอ': 'ยะรัง',\n",
    "    'จังหวัด': 'ปัตตานี',\n",
    "    'จำนวนบุตร': 0,\n",
    "    'อายุสมาชิกปี': 1,\n",
    "    'แบบชำระ': 'ชำระด้วยตัวเอง',\n",
    "    'กลุ่มอายุ': '20-30',\n",
    "    'กลุ่มรายได้รวม': '<10,000',\n",
    "    'หมวดหมู่อาชีพ': 'การศึกษา',\n",
    "    'กลุ่มวงเงินที่ขอ': '50,000 to 70,000',\n",
    "    'กลุ่มอายุสมาชิกปี': '1'\n",
    "}\n",
    "\n",
    "# Create DataFrame from adjusted example data\n",
    "example_df_adjusted = pd.DataFrame([example_data], columns=X_train.columns)\n",
    "\n",
    "# Encode example data using the fitted LabelEncoders, handle unknown categories\n",
    "for column in example_df_adjusted.columns:\n",
    "    le = encoders[column]\n",
    "    example_df_adjusted[column] = example_df_adjusted[column].astype(str).apply(lambda x: x if x in le.classes_ else 'Unknown')\n",
    "    example_df_adjusted[column] = le.transform(example_df_adjusted[column])\n",
    "\n",
    "# Predict using the logistic regression model\n",
    "prediction_adjusted = logreg.predict(example_df_adjusted)\n",
    "\n",
    "# Decode the predicted label\n",
    "predicted_label_adjusted = encoders['ความเสี่ยง'].inverse_transform(prediction_adjusted)[0]\n",
    "\n",
    "predicted_label_adjusted\n"
   ]
  },
  {
   "cell_type": "code",
   "execution_count": 23,
   "metadata": {},
   "outputs": [
    {
     "data": {
      "text/plain": [
       "'เสี่ยง'"
      ]
     },
     "execution_count": 23,
     "metadata": {},
     "output_type": "execute_result"
    }
   ],
   "source": [
    "# Updated example data based on the image provided\n",
    "updated_example_data = {\n",
    "    'รหัสสาขาสัญญา': 'อาเซี่ยนมอลล์',\n",
    "    'สถานภาพ': 'แต่งงาน',\n",
    "    'เพศ': 'หญิง',\n",
    "    'เหตุผลการกู้': 'ครัวเรือนและส่วนบุคคล',\n",
    "    'หลักค้ําประกัน': 'บุคคล',\n",
    "    'อำเภอ': 'เมืองปัตตานี',\n",
    "    'จังหวัด': 'ปัตตานี',\n",
    "    'จำนวนบุตร': 3,\n",
    "    'อายุสมาชิกปี': 4,\n",
    "    'แบบชำระ': 'ชำระด้วยตัวเอง',\n",
    "    'กลุ่มอายุ': '50-60',\n",
    "    'กลุ่มรายได้รวม': '<10,000',\n",
    "    'หมวดหมู่อาชีพ': 'ธุรกิจและการค้า',\n",
    "    'กลุ่มวงเงินที่ขอ': '20,000 to 50,000',\n",
    "    'กลุ่มอายุสมาชิกปี': 'Less than 5 years'\n",
    "}\n",
    "\n",
    "# Create DataFrame from the updated example data\n",
    "updated_example_df = pd.DataFrame([updated_example_data], columns=X_train.columns)\n",
    "\n",
    "# Encode updated example data using the fitted LabelEncoders, handle unknown categories\n",
    "for column in updated_example_df.columns:\n",
    "    le = encoders[column]\n",
    "    updated_example_df[column] = updated_example_df[column].astype(str).apply(lambda x: x if x in le.classes_ else 'Unknown')\n",
    "    updated_example_df[column] = le.transform(updated_example_df[column])\n",
    "\n",
    "# Predict using the logistic regression model\n",
    "updated_prediction = logreg.predict(updated_example_df)\n",
    "\n",
    "# Decode the predicted label\n",
    "updated_predicted_label = encoders['ความเสี่ยง'].inverse_transform(updated_prediction)[0]\n",
    "\n",
    "updated_predicted_label\n"
   ]
  }
 ],
 "metadata": {
  "kernelspec": {
   "display_name": "base",
   "language": "python",
   "name": "python3"
  },
  "language_info": {
   "codemirror_mode": {
    "name": "ipython",
    "version": 3
   },
   "file_extension": ".py",
   "mimetype": "text/x-python",
   "name": "python",
   "nbconvert_exporter": "python",
   "pygments_lexer": "ipython3",
   "version": "3.9.12"
  }
 },
 "nbformat": 4,
 "nbformat_minor": 2
}
